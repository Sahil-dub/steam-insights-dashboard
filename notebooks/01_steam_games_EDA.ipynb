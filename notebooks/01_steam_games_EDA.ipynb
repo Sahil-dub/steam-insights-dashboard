{
 "cells": [
  {
   "cell_type": "code",
   "execution_count": null,
   "id": "54fb0ae5",
   "metadata": {},
   "outputs": [],
   "source": [
    "import pandas as pd\n",
    "import numpy as np\n",
    "import matplotlib.pyplot as plt\n",
    "import seaborn as sns\n",
    "import plotly.express as px\n",
    "import warnings\n",
    "\n",
    "warnings.filterwarnings('ignore')\n",
    "pd.set_option('display.max_columns', 100)\n"
   ]
  },
  {
   "cell_type": "code",
   "execution_count": null,
   "id": "11ae09c7",
   "metadata": {},
   "outputs": [],
   "source": [
    "# Use your local path or adjust if loading from data/ folder\n",
    "df = pd.read_csv('../data/steam_games.csv', low_memory=False)\n",
    "\n",
    "# Check shape and columns\n",
    "print(f\"Rows: {df.shape[0]}, Columns: {df.shape[1]}\")\n",
    "df.head()\n"
   ]
  },
  {
   "cell_type": "code",
   "execution_count": null,
   "id": "cb76239b",
   "metadata": {},
   "outputs": [],
   "source": [
    "# Check nulls and datatypes\n",
    "df.info()\n",
    "df.isnull().sum().sort_values(ascending=False).head(20)\n"
   ]
  },
  {
   "cell_type": "code",
   "execution_count": null,
   "id": "eac355d5",
   "metadata": {},
   "outputs": [],
   "source": [
    "# Describe numerical columns\n",
    "df.describe()\n"
   ]
  },
  {
   "cell_type": "code",
   "execution_count": null,
   "id": "ad286711",
   "metadata": {},
   "outputs": [],
   "source": [
    "# Top frequent values in object columns\n",
    "for col in df.select_dtypes(include='object').columns:\n",
    "    print(f\"\\n{col} — Unique: {df[col].nunique()}\")\n",
    "    print(df[col].value_counts().head(5))\n"
   ]
  },
  {
   "cell_type": "code",
   "execution_count": null,
   "id": "fd5e6921",
   "metadata": {},
   "outputs": [],
   "source": [
    "plt.figure(figsize=(10, 5))\n",
    "sns.histplot(df['price'], bins=50, kde=True)\n",
    "plt.title('Distribution of Game Prices')\n",
    "plt.xlabel('Price ($)')\n",
    "plt.ylabel('Frequency')\n",
    "plt.show()\n"
   ]
  },
  {
   "cell_type": "code",
   "execution_count": null,
   "id": "75c2019a",
   "metadata": {},
   "outputs": [],
   "source": [
    "missing = df.isnull().mean() * 100\n",
    "missing[missing > 0].sort_values(ascending=False)\n"
   ]
  }
 ],
 "metadata": {
  "kernelspec": {
   "display_name": "Python 3",
   "language": "python",
   "name": "python3"
  },
  "language_info": {
   "name": "python",
   "version": "3.13.2"
  }
 },
 "nbformat": 4,
 "nbformat_minor": 5
}
