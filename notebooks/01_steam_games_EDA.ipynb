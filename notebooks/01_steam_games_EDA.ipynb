{
 "cells": [
  {
   "cell_type": "code",
   "execution_count": 2,
   "id": "54fb0ae5",
   "metadata": {},
   "outputs": [],
   "source": [
    "import pandas as pd\n",
    "import numpy as np\n",
    "import matplotlib.pyplot as plt\n",
    "import seaborn as sns\n",
    "import plotly.express as px\n",
    "import warnings\n",
    "\n",
    "warnings.filterwarnings('ignore')\n",
    "pd.set_option('display.max_columns', 100)"
   ]
  },
  {
   "cell_type": "code",
   "execution_count": null,
   "id": "11ae09c7",
   "metadata": {},
   "outputs": [],
   "source": [
    "# Use your local path or adjust if loading from data/ folder\n",
    "df = pd.read_csv('../data/steam_games.csv', low_memory=False)\n",
    "\n",
    "# Check shape and columns\n",
    "print(f\"Rows: {df.shape[0]}, Columns: {df.shape[1]}\")\n",
    "df.head()"
   ]
  },
  {
   "cell_type": "code",
   "execution_count": null,
   "id": "cb76239b",
   "metadata": {},
   "outputs": [],
   "source": [
    "# Check nulls and datatypes\n",
    "df.info()\n",
    "df.isnull().sum().sort_values(ascending=False).head(20)"
   ]
  },
  {
   "cell_type": "code",
   "execution_count": null,
   "id": "eac355d5",
   "metadata": {},
   "outputs": [],
   "source": [
    "# Describe numerical columns\n",
    "df.describe()"
   ]
  },
  {
   "cell_type": "code",
   "execution_count": null,
   "id": "ad286711",
   "metadata": {},
   "outputs": [],
   "source": [
    "# Top frequent values in object columns\n",
    "for col in df.select_dtypes(include='object').columns:\n",
    "    print(f\"\\n{col} — Unique: {df[col].nunique()}\")\n",
    "    print(df[col].value_counts().head(5))"
   ]
  },
  {
   "cell_type": "code",
   "execution_count": null,
   "id": "fd5e6921",
   "metadata": {},
   "outputs": [],
   "source": [
    "plt.figure(figsize=(10, 5))\n",
    "sns.histplot(df['price'], bins=50, kde=True)\n",
    "plt.title('Distribution of Game Prices')\n",
    "plt.xlabel('Price ($)')\n",
    "plt.ylabel('Frequency')\n",
    "plt.show()"
   ]
  },
  {
   "cell_type": "code",
   "execution_count": null,
   "id": "75c2019a",
   "metadata": {},
   "outputs": [],
   "source": [
    "missing = df.isnull().mean() * 100\n",
    "missing[missing > 0].sort_values(ascending=False)"
   ]
  },
  {
   "cell_type": "code",
   "execution_count": null,
   "id": "e61abe21",
   "metadata": {},
   "outputs": [],
   "source": [
    "plt.figure(figsize=(10, 6))\n",
    "sns.scatterplot(data=df, x='price', y='recommendations', alpha=0.5)\n",
    "plt.xscale('log')\n",
    "plt.yscale('log')\n",
    "plt.title('Price vs. Recommendations')\n",
    "plt.xlabel('Price ($)')\n",
    "plt.ylabel('Number of Recommendations')\n",
    "plt.grid(True)\n",
    "plt.show()"
   ]
  },
  {
   "cell_type": "code",
   "execution_count": 9,
   "id": "762a6ad3",
   "metadata": {},
   "outputs": [],
   "source": [
    "# Convert release_date to datetime\n",
    "df['release_date'] = pd.to_datetime(df['release_date'], errors='coerce')\n",
    "df['release_year'] = df['release_date'].dt.year"
   ]
  },
  {
   "cell_type": "code",
   "execution_count": null,
   "id": "cf2e5c4a",
   "metadata": {},
   "outputs": [],
   "source": [
    "games_per_year = df['release_year'].value_counts().sort_index()\n",
    "\n",
    "plt.figure(figsize=(12, 5))\n",
    "sns.lineplot(x=games_per_year.index, y=games_per_year.values)\n",
    "plt.title('Number of Games Released per Year')\n",
    "plt.xlabel('Year')\n",
    "plt.ylabel('Number of Games')\n",
    "plt.grid(True)\n",
    "plt.show()"
   ]
  },
  {
   "cell_type": "code",
   "execution_count": null,
   "id": "46818500",
   "metadata": {},
   "outputs": [],
   "source": [
    "median_price_by_year = df.groupby('release_year')['price'].median()\n",
    "\n",
    "plt.figure(figsize=(12, 5))\n",
    "sns.lineplot(x=median_price_by_year.index, y=median_price_by_year.values)\n",
    "plt.title('Median Game Price by Release Year')\n",
    "plt.xlabel('Year')\n",
    "plt.ylabel('Median Price ($)')\n",
    "plt.grid(True)\n",
    "plt.show()"
   ]
  },
  {
   "cell_type": "code",
   "execution_count": null,
   "id": "16014690",
   "metadata": {},
   "outputs": [],
   "source": [
    "from collections import Counter\n",
    "\n",
    "genre_counts = Counter()\n",
    "df['genres'].dropna().apply(lambda x: genre_counts.update(x.split(';')))\n",
    "\n",
    "# Top 10 genres\n",
    "top_genres = pd.DataFrame(genre_counts.most_common(10), columns=['Genre', 'Count'])\n",
    "\n",
    "plt.figure(figsize=(10, 5))\n",
    "sns.barplot(data=top_genres, x='Count', y='Genre', palette='viridis')\n",
    "plt.title('Top 10 Genres')\n",
    "plt.xlabel('Number of Games')\n",
    "plt.ylabel('Genre')\n",
    "plt.grid(True)\n",
    "plt.show()"
   ]
  },
  {
   "cell_type": "code",
   "execution_count": null,
   "id": "7d0b6c40",
   "metadata": {},
   "outputs": [],
   "source": [
    "columns_to_drop = [\n",
    "    'detailed_description', 'about_the_game', 'short_description',\n",
    "    'header_image', 'website', 'support_url', 'support_email',\n",
    "    'notes', 'full_audio_languages', 'movies', 'screenshots',\n",
    "    'metacritic_url', 'packages', 'tags'\n",
    "]\n",
    "\n",
    "df.drop(columns=columns_to_drop, axis=1, inplace=True)\n",
    "print(f\"Remaining columns: {df.shape[1]}\")\n"
   ]
  },
  {
   "cell_type": "code",
   "execution_count": 6,
   "id": "6b6ac0a4",
   "metadata": {},
   "outputs": [],
   "source": [
    "def price_bucket(price):\n",
    "    if price == 0:\n",
    "        return 'Free'\n",
    "    elif price <= 5:\n",
    "        return '$0 - $5'\n",
    "    elif price <= 15:\n",
    "        return '$5 - $15'\n",
    "    elif price <= 30:\n",
    "        return '$15 - $30'\n",
    "    else:\n",
    "        return '$30+'\n",
    "\n",
    "df['price_bucket'] = df['price'].apply(price_bucket)\n"
   ]
  },
  {
   "cell_type": "code",
   "execution_count": 7,
   "id": "0633abb7",
   "metadata": {},
   "outputs": [],
   "source": [
    "def get_platform(row):\n",
    "    platforms = []\n",
    "    if row['windows']: platforms.append('Windows')\n",
    "    if row['mac']: platforms.append('Mac')\n",
    "    if row['linux']: platforms.append('Linux')\n",
    "    return ', '.join(platforms)\n",
    "\n",
    "df['platforms'] = df.apply(get_platform, axis=1)\n"
   ]
  },
  {
   "cell_type": "code",
   "execution_count": null,
   "id": "540d5ffb",
   "metadata": {},
   "outputs": [],
   "source": [
    "# Nulls after cleanup\n",
    "df.isnull().mean().sort_values(ascending=False).head(10)"
   ]
  },
  {
   "cell_type": "code",
   "execution_count": 9,
   "id": "8bb0918a",
   "metadata": {},
   "outputs": [],
   "source": [
    "df.to_csv('../data/steam_games_cleaned.csv', index=False)"
   ]
  }
 ],
 "metadata": {
  "kernelspec": {
   "display_name": "venv",
   "language": "python",
   "name": "python3"
  },
  "language_info": {
   "codemirror_mode": {
    "name": "ipython",
    "version": 3
   },
   "file_extension": ".py",
   "mimetype": "text/x-python",
   "name": "python",
   "nbconvert_exporter": "python",
   "pygments_lexer": "ipython3",
   "version": "3.13.2"
  }
 },
 "nbformat": 4,
 "nbformat_minor": 5
}
